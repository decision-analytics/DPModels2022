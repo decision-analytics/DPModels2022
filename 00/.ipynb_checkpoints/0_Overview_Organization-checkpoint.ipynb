{
 "cells": [
  {
   "cell_type": "markdown",
   "metadata": {
    "slideshow": {
     "slide_type": "slide"
    }
   },
   "source": [
    "<img src=\"img/bigsem.png\" width=\"40%\" align=\"right\">\n",
    "<img src=\"img/logo_wiwi.png\" width=\"20%\" align=\"left\">\n",
    "\n",
    "\n",
    "\n",
    "\n",
    "\n",
    "<br><br><br><br>\n",
    "\n",
    "# Dynamic Programming Models in Combinatorial Optimization\n",
    "**Winter Term 2021/22**\n",
    "\n",
    "\n",
    "# 0. Overview and Organization\n",
    "\n",
    "<img src=\"img/decision_analytics_logo.png\" width=\"17%\" align=\"right\">\n",
    "\n",
    "\n",
    "<br>\n",
    "\n",
    "<br>\n",
    "<br>\n",
    "\n",
    "**J-Prof. Dr. Michael Römer |  Decision Analytics Group**\n",
    "                                                    \n"
   ]
  },
  {
   "cell_type": "code",
   "execution_count": null,
   "metadata": {
    "slideshow": {
     "slide_type": "skip"
    }
   },
   "outputs": [],
   "source": [
    "import matplotlib.pyplot as plt\n",
    "import numpy as np"
   ]
  },
  {
   "cell_type": "markdown",
   "metadata": {
    "cell_style": "center",
    "slideshow": {
     "slide_type": "slide"
    }
   },
   "source": [
    "## Overview\n",
    "\n",
    "- Getting to know each other\n",
    "- Motivating topics of the course\n",
    "- Course Organisation\n"
   ]
  },
  {
   "cell_type": "markdown",
   "metadata": {
    "slideshow": {
     "slide_type": "slide"
    }
   },
   "source": [
    "## Getting to Know Me"
   ]
  },
  {
   "cell_type": "markdown",
   "metadata": {
    "cell_style": "center",
    "hide_input": true,
    "slideshow": {
     "slide_type": "-"
    }
   },
   "source": [
    "### Short Bio\n",
    "- Studied \"Wirtschaftsinformatik\" (Information Systems) at Paderborn University\n",
    "- PhD from Martin Luther University Halle-Wittenberg \\\\ Topic: Airline Crew Planning and Scheduling \n",
    "- 2017-2019 Postdoctoral research stay in Toronto / Montréal\n",
    "- since December 2019: Junior Professor at Bielefeld University leading the research group Decision Analytics funded by the \"NRW Rückkehrprogramm\""
   ]
  },
  {
   "cell_type": "markdown",
   "metadata": {
    "cell_style": "split",
    "hide_input": true,
    "slideshow": {
     "slide_type": "fragment"
    }
   },
   "source": [
    "## Research: Methods\n",
    "- Mathematical Programming / Combinatorial Optimization\n",
    "- Graph/Network-based Modeling of Optimization Problems\n",
    "- Decision Diagrams\n",
    "- Simulation\n",
    "- Machine Learning (for Optimization)"
   ]
  },
  {
   "cell_type": "markdown",
   "metadata": {
    "cell_style": "split",
    "hide_input": true,
    "slideshow": {
     "slide_type": "fragment"
    }
   },
   "source": [
    "## Research: Appliciation Fields\n",
    "- **Logistics** Airlines, Bike Sharing, Production Logistics\n",
    "- **Personnel Scheduling** Crew Scheduling, Employee Shift Scheduling\n",
    "- **Health Care** Clinical Pathway Planning, Nurse Scheduling,ICU capacity planning"
   ]
  },
  {
   "cell_type": "markdown",
   "metadata": {
    "slideshow": {
     "slide_type": "slide"
    }
   },
   "source": [
    "## Getting to Know You\n",
    "\n",
    "**Please introduce yourself:**\n",
    "- What is your background / institution / working group?\n",
    "- Are you a BiGSEM student? In which track?\n",
    "- What is your PhD topic?\n",
    "- Do you use Analytics / Data Science / OR in your research?\n",
    "- Shortly sketch a recent article or your Master thesis!\n"
   ]
  },
  {
   "cell_type": "markdown",
   "metadata": {
    "slideshow": {
     "slide_type": "slide"
    }
   },
   "source": [
    "## Why Should You Learn about Dynamic Programming Models?\n",
    "\n",
    "- is more than \n",
    "- tend to neglect decision making (prescriptive analytics)"
   ]
  },
  {
   "cell_type": "markdown",
   "metadata": {
    "slideshow": {
     "slide_type": "fragment"
    }
   },
   "source": [
    "#### Operations Research and Optimization Courses\n",
    "- focus on hard (deterministic) optimization problems\n",
    "- tend to neglect uncertainty"
   ]
  },
  {
   "cell_type": "markdown",
   "metadata": {
    "slideshow": {
     "slide_type": "fragment"
    }
   },
   "source": [
    "#### This course\n",
    "- combines techniques both fields for learning about\n",
    " decision making and optimization under uncertainty."
   ]
  },
  {
   "cell_type": "markdown",
   "metadata": {
    "slideshow": {
     "slide_type": "slide"
    }
   },
   "source": [
    "## A (Somewhat Simplified) Motivation for the Course for PhD students\n",
    "\n",
    "- you may get an idea / learn a new set of approaches for one of your next papers:\n",
    "  - a different solution approach for\n",
    "  - extend your simulation paper by incorporating / emphasizing decisions / optimization\n",
    "  \n",
    "- you may get an idea / learn a new set of approaches for one of your next papers:\n",
    "\n"
   ]
  },
  {
   "cell_type": "markdown",
   "metadata": {
    "slideshow": {
     "slide_type": "slide"
    }
   },
   "source": [
    "## Course Goal\n",
    "\n",
    "#### In this course, you learn\n",
    "- how to combine techniques from Data Science and Operations Research\n",
    "  for decision-making and optimization under uncertainty\n",
    "- how to implement these techniques in Python\n",
    "\n",
    "#### Ideally, after the course\n",
    "- you are able to employ these techniques in your own research"
   ]
  },
  {
   "cell_type": "markdown",
   "metadata": {
    "slideshow": {
     "slide_type": "slide"
    }
   },
   "source": [
    "## General Course Outline\n",
    "\n",
    "\n",
    "#### Part 1 (starting now): Integrated Lecture / Exercise\n",
    "- lecture-style content presentation from Jupyter-based slides\n",
    "- Python implementation and hands-on exercises\n",
    "\n",
    "\n",
    "#### Part 2: Paper Presentations\n",
    "- each participant is assigned a paper (of choice)\n",
    "- presentation of the paper contents to the group **(Dec / Jan)** \n",
    "\n",
    "\n",
    "#### Part 3: Course Projects\n",
    "- a small group project related to the course topics\n",
    "- ideally related to your PhD \n",
    "- presentation of the project **(Feb / Mar)**\n",
    "- great opportunity for starting collaboration: last year, two projects initiated joint paper projects\n",
    "\n",
    "**Probably:** A guest talk"
   ]
  },
  {
   "cell_type": "markdown",
   "metadata": {
    "slideshow": {
     "slide_type": "slide"
    }
   },
   "source": [
    "## Grading / Coursework \n",
    "\n",
    "#### If you do not need a grade / proof of participation, feel free to\n",
    "- participate in the whole course or\n",
    "- participate in the parts of the course that seem helpful to you\n",
    "\n",
    "\n",
    "**BiGSEM-students** course can use this course either as **elective course**:\n",
    "- paper and project presentations as \"ungraded academic achievement\"\n",
    "\n"
   ]
  },
  {
   "cell_type": "markdown",
   "metadata": {
    "slideshow": {
     "slide_type": "slide"
    }
   },
   "source": [
    "##  Part I: Schedule and Contents\n",
    "\n",
    "\n",
    "We will have **three blocks** of **2 x 90 h**, **Tuesdays at 12:30 h** in **V10-122**\n",
    "\n",
    "\n",
    "#### Block 1 (today) Introduction to Dynamic Programming \n",
    "- from greedy to dynamic programming\n",
    "- dynamic programming models and algorithms\n",
    "- DP-based heuristic approaches\n",
    "- relation to other approaches\n",
    "\n",
    "\n",
    "#### Block 2 (Nov 22): Decision Diagrams\n",
    "- building decision diagrams from DP models\n",
    "- reducing DDs\n",
    "- relaxed and restricted decision diagrams\n",
    "- DD-based branch and bound\n",
    "\n",
    "#### Block 3  (Nov 29): Dynamic Programming Models in MIP Models     \n",
    "- state-expanded networks: embedding DP state-transition graphs in MIP models\n",
    "- reducing state-expanded networks exactly and heuristically\n",
    "\n"
   ]
  },
  {
   "cell_type": "markdown",
   "metadata": {
    "slideshow": {
     "slide_type": "slide"
    }
   },
   "source": [
    "## Adapting the Course to Your Needs and Interests\n",
    "\n",
    "#### Part 1\n",
    "\n",
    "What is your prior knowlege / skills with respect to:\n",
    "- the contents of the course\n",
    "- programming skills in general and Python in particular\n",
    "\n",
    "Is there any particular content you would like to be covered?\n",
    "\n",
    "\n",
    "#### Part 2\n",
    "- we will agree on a paper that fits both the course and your interests\n",
    "\n",
    "#### Part 3\n",
    "- we will try finding a project that is related to your PhD research and/or forms an interesting collaboration"
   ]
  },
  {
   "cell_type": "markdown",
   "metadata": {
    "slideshow": {
     "slide_type": "slide"
    }
   },
   "source": [
    "## Course Material\n",
    "\n",
    "- course material can be found in LernRaumPlus\n",
    "- it is in form of Juypter notebooks\n",
    "- attention: it also involves instance files, so\n",
    "  - make sure you know how to read in files in Colab\n",
    "  - or use a local installation of Python\n",
    "  - or use the Binder link provided in the Lernraum"
   ]
  }
 ],
 "metadata": {
  "celltoolbar": "Slideshow",
  "kernelspec": {
   "display_name": "Python 3 (ipykernel)",
   "language": "python",
   "name": "python3"
  },
  "language_info": {
   "codemirror_mode": {
    "name": "ipython",
    "version": 3
   },
   "file_extension": ".py",
   "mimetype": "text/x-python",
   "name": "python",
   "nbconvert_exporter": "python",
   "pygments_lexer": "ipython3",
   "version": "3.9.7"
  },
  "toc": {
   "base_numbering": 1,
   "nav_menu": {},
   "number_sections": false,
   "sideBar": true,
   "skip_h1_title": false,
   "title_cell": "Table of Contents",
   "title_sidebar": "Contents",
   "toc_cell": false,
   "toc_position": {},
   "toc_section_display": true,
   "toc_window_display": false
  },
  "varInspector": {
   "cols": {
    "lenName": 16,
    "lenType": 16,
    "lenVar": 40
   },
   "kernels_config": {
    "python": {
     "delete_cmd_postfix": "",
     "delete_cmd_prefix": "del ",
     "library": "var_list.py",
     "varRefreshCmd": "print(var_dic_list())"
    },
    "r": {
     "delete_cmd_postfix": ") ",
     "delete_cmd_prefix": "rm(",
     "library": "var_list.r",
     "varRefreshCmd": "cat(var_dic_list()) "
    }
   },
   "types_to_exclude": [
    "module",
    "function",
    "builtin_function_or_method",
    "instance",
    "_Feature"
   ],
   "window_display": false
  }
 },
 "nbformat": 4,
 "nbformat_minor": 2
}
